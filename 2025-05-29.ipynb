{
 "cells": [
  {
   "cell_type": "code",
   "execution_count": null,
   "id": "initial_id",
   "metadata": {
    "collapsed": true
   },
   "outputs": [],
   "source": [
    "## split() 메서드는 문자열을 공백(기본값) 기준으로 나눠서 리스트로 반환합니다.\n",
    "## my_string에 공백이 하나도 없는 경우에도 정상적으로 처리됩니다. 예: \"programmers\" → [\"programmers\"]"
   ]
  },
  {
   "metadata": {},
   "cell_type": "code",
   "outputs": [],
   "execution_count": null,
   "source": [
    "for _ in range(5):\n",
    "    print(\"hello\")\n",
    "# ➡️ hello가 5번 출력됩니다.\n",
    "# (여기서 반복 인덱스 값은 필요 없기 때문에 _ 사용)"
   ],
   "id": "c6e02396797071de"
  },
  {
   "metadata": {
    "ExecuteTime": {
     "end_time": "2025-05-29T05:05:42.352348Z",
     "start_time": "2025-05-29T05:05:42.343728Z"
    }
   },
   "cell_type": "code",
   "source": [
    "if type(code[i]) == str:\n",
    "#이것과\n",
    "if code[i].type() == \"str\"\n",
    "# 이것의 구분이 필요"
   ],
   "id": "b396dbfaff9878b2",
   "outputs": [
    {
     "ename": "SyntaxError",
     "evalue": "incomplete input (3218141277.py, line 1)",
     "output_type": "error",
     "traceback": [
      "  \u001B[36mCell\u001B[39m\u001B[36m \u001B[39m\u001B[32mIn[1]\u001B[39m\u001B[32m, line 1\u001B[39m\n\u001B[31m    \u001B[39m\u001B[31mif type(code[i]) == str:\u001B[39m\n                            ^\n\u001B[31mSyntaxError\u001B[39m\u001B[31m:\u001B[39m incomplete input\n"
     ]
    }
   ],
   "execution_count": 1
  },
  {
   "metadata": {},
   "cell_type": "code",
   "outputs": [],
   "execution_count": null,
   "source": "",
   "id": "a2b3067278df5ae9"
  }
 ],
 "metadata": {
  "kernelspec": {
   "display_name": "Python 3",
   "language": "python",
   "name": "python3"
  },
  "language_info": {
   "codemirror_mode": {
    "name": "ipython",
    "version": 2
   },
   "file_extension": ".py",
   "mimetype": "text/x-python",
   "name": "python",
   "nbconvert_exporter": "python",
   "pygments_lexer": "ipython2",
   "version": "2.7.6"
  }
 },
 "nbformat": 4,
 "nbformat_minor": 5
}
