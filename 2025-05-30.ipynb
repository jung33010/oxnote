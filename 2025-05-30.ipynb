{
 "cells": [
  {
   "cell_type": "code",
   "id": "initial_id",
   "metadata": {
    "collapsed": true,
    "ExecuteTime": {
     "end_time": "2025-05-30T06:03:45.015618Z",
     "start_time": "2025-05-30T06:03:45.008042Z"
    }
   },
   "source": [
    "def solution(arr, n):\n",
    "    result = []\n",
    "    for i in range(len(arr)):\n",
    "        if len(arr) % 2 == 1 and i % 2 == 0:  # arr 길이 홀수 + 짝수 인덱스\n",
    "            result.append(arr[i] + n)\n",
    "        elif len(arr) % 2 == 0 and i % 2 == 1:  # arr 길이 짝수 + 홀수 인덱스\n",
    "            result.append(arr[i] + n)\n",
    "        else:\n",
    "            result.append(arr[i])\n",
    "    return result\n",
    "# 짝수인덱스만 바꾸는버"
   ],
   "outputs": [],
   "execution_count": 1
  },
  {
   "metadata": {
    "ExecuteTime": {
     "end_time": "2025-05-30T06:03:49.971893Z",
     "start_time": "2025-05-30T06:03:49.966834Z"
    }
   },
   "cell_type": "code",
   "source": [
    "def solution(l, r):\n",
    "    result = []\n",
    "    for i in range(l, r + 1):\n",
    "        if all(c in '05' for c in str(i)):\n",
    "            result.append(i)\n",
    "    return result if result else [-1]\n",
    "# l이상 r 이하 숫자중 5 50 505 이런식으로 뽑는법"
   ],
   "id": "c77eea3323ff858e",
   "outputs": [],
   "execution_count": 2
  },
  {
   "metadata": {},
   "cell_type": "code",
   "outputs": [],
   "execution_count": null,
   "source": "",
   "id": "f13f8d1cbd8c74ea"
  }
 ],
 "metadata": {
  "kernelspec": {
   "display_name": "Python 3",
   "language": "python",
   "name": "python3"
  },
  "language_info": {
   "codemirror_mode": {
    "name": "ipython",
    "version": 2
   },
   "file_extension": ".py",
   "mimetype": "text/x-python",
   "name": "python",
   "nbconvert_exporter": "python",
   "pygments_lexer": "ipython2",
   "version": "2.7.6"
  }
 },
 "nbformat": 4,
 "nbformat_minor": 5
}
