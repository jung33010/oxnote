{
 "cells": [
  {
   "cell_type": "markdown",
   "id": "cc815c2b",
   "metadata": {},
   "source": "## Class"
  },
  {
   "cell_type": "code",
   "id": "a1c80ab6",
   "metadata": {},
   "source": [
    "#RMSE --> 작을수록값이 정확\n",
    "# cat_boost 회귀방식중하나 다른점은 pool(중간테스트) 로 사용 잔차학습모델"
   ],
   "outputs": [],
   "execution_count": null
  },
  {
   "metadata": {},
   "cell_type": "code",
   "outputs": [],
   "execution_count": null,
   "source": [
    "# argsort란?\n",
    "# 배열을 정렬했을 때, 원래 배열에서의 인덱스 순서를 알려주는 함수"
   ],
   "id": "d05b3d582b4367ad"
  },
  {
   "metadata": {},
   "cell_type": "markdown",
   "source": "",
   "id": "75f3bd06b734a664"
  }
 ],
 "metadata": {
  "kernelspec": {
   "display_name": "3.11.9",
   "language": "python",
   "name": "python3"
  },
  "language_info": {
   "codemirror_mode": {
    "name": "ipython",
    "version": 3
   },
   "file_extension": ".py",
   "mimetype": "text/x-python",
   "name": "python",
   "nbconvert_exporter": "python",
   "pygments_lexer": "ipython3",
   "version": "3.11.9"
  }
 },
 "nbformat": 4,
 "nbformat_minor": 5
}
