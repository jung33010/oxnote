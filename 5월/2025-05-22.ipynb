{
 "cells": [
  {
   "cell_type": "markdown",
   "id": "cc815c2b",
   "metadata": {},
   "source": [
    "## 코딩 기초 트레이닝"
   ]
  },
  {
   "cell_type": "code",
   "execution_count": 4,
   "id": "a1c80ab6",
   "metadata": {},
   "outputs": [
    {
     "name": "stdout",
     "output_type": "stream",
     "text": [
      "[1, 2, 3, 4, 5, 6]\n"
     ]
    }
   ],
   "source": [
    "# 리스트끼리 덧셈이 가능한지?\n",
    "example = [1, 2, 3] + [4, 5, 6]\n",
    "print(example)\n",
    "# 가능하지만 인덱싱한결과에 함수를 붙이는건 불가능\n",
    "#  a = strArr[0::2].upper() 이런식으로 쓸수없다\n",
    "#  why? 문자열이아닌 리스트이기때문\n",
    "#  이럴경우 리스트컴프리헨션을 사용해야한다"
   ]
  },
  {
   "cell_type": "code",
   "execution_count": null,
   "id": "0499f629",
   "metadata": {},
   "outputs": [],
   "source": [
    "# 문자열은 불변이다 그렇다는건 Str.upper()를 사용하면 새로운 문자열을 반환한다는것이다.\n",
    "# 그래서 덮어써줘야한다 Str = Str.upper() 이런식으로"
   ]
  },
  {
   "cell_type": "code",
   "execution_count": 10,
   "id": "d6cad1ba",
   "metadata": {},
   "outputs": [
    {
     "ename": "IndentationError",
     "evalue": "expected an indented block after 'for' statement on line 3 (997413977.py, line 4)",
     "output_type": "error",
     "traceback": [
      "  \u001B[36mCell\u001B[39m\u001B[36m \u001B[39m\u001B[32mIn[10]\u001B[39m\u001B[32m, line 4\u001B[39m\n\u001B[31m    \u001B[39m\u001B[31mprint(i)\u001B[39m\n    ^\n\u001B[31mIndentationError\u001B[39m\u001B[31m:\u001B[39m expected an indented block after 'for' statement on line 3\n"
     ]
    }
   ],
   "source": [
    "start_num = 10\n",
    "end_num = 3\n",
    "for i in range(start_num,end_num):\n",
    "print(i)\n",
    "\n",
    "# 이경우에는 range자체가 기본 오름차순(증가)으로 동작하기때문에\n",
    "# 10부터 3까지는 불가능함 \n",
    "# 그래서 range의 세번째 인자에 -1을 넣어줘야한다\n",
    "for i in range(start_num, end_num, -1):\n",
    "    print(i)"
   ]
  },
  {
   "cell_type": "code",
   "execution_count": null,
   "id": "0ab1b5a5",
   "metadata": {},
   "outputs": [],
   "source": [
    "def solution(start_num, end_num):\n",
    "    i = []\n",
    "    for i in range(start_num,end_num,-1):\n",
    "    return i\n",
    "\n",
    "# 마이 미스테이크\n",
    "# 원소를 리스트에 추가하고싶으면 무조건 append를 사용해야한다\n",
    "\n",
    "def solution(start_num, end_num):\n",
    "    i = []\n",
    "    for num in range(start_num,end_num-1,-1):\n",
    "        i.append(num)\n",
    "        \n",
    "    return i\n",
    "# 이런식으로 써야한다"
   ]
  },
  {
   "cell_type": "code",
   "execution_count": null,
   "id": "19baed68",
   "metadata": {},
   "outputs": [],
   "source": [
    "# 메서드 swapcase 를 swichcase로 잘못사용"
   ]
  },
  {
   "cell_type": "code",
   "execution_count": null,
   "id": "e6d4ff15",
   "metadata": {},
   "outputs": [],
   "source": [
    "# 문제 설명\n",
    "# 문자열 my_string, overwrite_string과 정수 s가 주어집니다.\n",
    "# 문자열 my_string의 인덱스 s부터 overwrite_string의 길이만큼을\n",
    "# 문자열 overwrite_string으로 바꾼 문자열을 return 하는 solution 함수를 작성해 주세요.\n",
    "\n",
    "# 파이썬에서 오버라이딩을 직접 지원하는 메소드는 없다\n",
    "# 그러나 슬라이싱은 가능하다"
   ]
  },
  {
   "cell_type": "code",
   "execution_count": 11,
   "id": "f3118a17",
   "metadata": {},
   "outputs": [
    {
     "ename": "TypeError",
     "evalue": "unsupported operand type(s) for %: 'list' and 'int'",
     "output_type": "error",
     "traceback": [
      "\u001B[31m---------------------------------------------------------------------------\u001B[39m",
      "\u001B[31mTypeError\u001B[39m                                 Traceback (most recent call last)",
      "\u001B[36mCell\u001B[39m\u001B[36m \u001B[39m\u001B[32mIn[11]\u001B[39m\u001B[32m, line 4\u001B[39m\n\u001B[32m      1\u001B[39m \u001B[38;5;66;03m# 확실히 하고 가자\u001B[39;00m\n\u001B[32m      2\u001B[39m \u001B[38;5;66;03m# 각원소에 대해 나누기를 그냥 수행할수있나?\u001B[39;00m\n\u001B[32m      3\u001B[39m arr = [\u001B[32m1\u001B[39m, \u001B[32m2\u001B[39m, \u001B[32m3\u001B[39m, \u001B[32m100\u001B[39m, \u001B[32m99\u001B[39m, \u001B[32m98\u001B[39m]\n\u001B[32m----> \u001B[39m\u001B[32m4\u001B[39m arr2 = \u001B[43marr\u001B[49m\u001B[43m \u001B[49m\u001B[43m%\u001B[49m\u001B[43m \u001B[49m\u001B[32;43m2\u001B[39;49m == \u001B[32m0\u001B[39m\n\u001B[32m      5\u001B[39m \u001B[38;5;28mprint\u001B[39m(arr2)\n",
      "\u001B[31mTypeError\u001B[39m: unsupported operand type(s) for %: 'list' and 'int'"
     ]
    }
   ],
   "source": [
    "# 확실히 하고 가자\n",
    "# 각원소에 대해 나누기를 그냥 수행할수있나? --> 안된다!!!!\n",
    "arr = [1, 2, 3, 100, 99, 98]\n",
    "arr2 = arr % 2 == 0\n",
    "print(arr2)"
   ]
  },
  {
   "cell_type": "code",
   "execution_count": null,
   "id": "9431ba50",
   "metadata": {},
   "outputs": [],
   "source": [
    "# 정수 배열 arr가 주어집니다. arr의 각 원소에 대해 값이 50보다 크거나 같은 짝수라면 2로 나누고, 50보다 작은 홀수라면 2를 곱하고 다시 1을 더합니다.\n",
    "# 이러한 작업을 x번 반복한 결과인 배열을 arr(x)라고 표현했을 때, arr(x) = arr(x + 1)인 x가 항상 존재합니다. 이러한 x 중 가장 작은 값을 return 하는 solution 함수를 완성해 주세요.\n",
    "# 단, 두 배열에 대한 \"=\"는 두 배열의 크기가 서로 같으며, 같은 인덱스의 원소가 각각 서로 같음을 의미합니다.\n",
    "def solution(arr):\n",
    "    #arr의 각 원소에 대해 값이 50보다 크거나 같은 짝수라면 2로 나누고, 50보다 작은 홀수라면 2를 곱하고 다시 1을 더합니다.\n",
    "    a = [x/2 for x in arr if arr>=50 and arr % 2 ==0]\n",
    "    b = [s*2+1 for s in arr if arr<50 and arr % 2 !==0]\n",
    "    c= a+b\n",
    "    \n",
    "    return c\n",
    "\n",
    "# 내가 작성한 코드 오류\n",
    "# !== 는 존재하지않음 != 이게맞는 표현\n",
    "# 그리고 \n",
    "def solution(arr):\n",
    "    count = 0\n",
    "    while True:\n",
    "        new_arr = transform(arr)\n",
    "        if new_arr == arr:\n",
    "            return count\n",
    "        arr = new_arr\n",
    "        count += 1\n",
    "# 반복문인데 해석하기\n",
    "# 1. 반복문이므로 초기값 설정해주고 그 아래의 코드를 반복하는데\n",
    "# 2. new_arr = transform(arr) 이부분은 arr를 transform함수에 넣어서 새로운 배열을 만들어주는것\n",
    "# 그러다가 new_arr와 arr가 같아지면 count를 반환하는것\n",
    "# 3. arr = new_arr 이부분은 arr를 new_arr로 바꿔주는것\n",
    "# 4. count += 1 이부분은 카운트를 증가시켜주는것\n",
    "# 5. 이부분이 없으면 무한루프에 빠지게된다"
   ]
  },
  {
   "cell_type": "code",
   "execution_count": 3,
   "id": "a8f48ec7",
   "metadata": {},
   "outputs": [
    {
     "name": "stdout",
     "output_type": "stream",
     "text": [
      "0\n",
      "1\n",
      "2\n",
      "range(0, 3)\n"
     ]
    }
   ],
   "source": [
    "# 길이가 같은 두 문자열 str1과 str2가 주어집니다.\n",
    "\n",
    "# 두 문자열의 각 문자가 앞에서부터 서로 번갈아가면서 한 번씩 등장하는 문자열을 만들어 return 하는 solution 함수를 완성해 주세요.\n",
    "\n",
    "# 이거 왜 슬라이싱해서 할생각을 못했는지 잘 모르겠음\n",
    "for x in range(0, 3):\n",
    "    print(x)\n",
    "y = range(0, 3)\n",
    "print(y)\n",
    "\n",
    "# def solution(str1, str2):\n",
    "#     # 순서를 x로 두고 lets go\n",
    "#     new_list = []\n",
    "#     for x in range(0:len(str1)+1): # 여기서 자꾸 range에 : 이거씀\n",
    "#         result = str1[x]+str2[x]\n",
    "#         new_list.append(result)\n",
    "#     return new_list"
   ]
  },
  {
   "cell_type": "code",
   "execution_count": null,
   "id": "1c46f363",
   "metadata": {},
   "outputs": [],
   "source": [
    "#  만약 쉼표 없이 그냥 붙인 문자열 \"a1b2c3\" 을 원한다면:\n",
    "# \",\".join(new_list) → \"\"로 바꾸면 됩니다:\n",
    "# 이거 또까먹음 ㄹㅇ"
   ]
  },
  {
   "cell_type": "code",
   "execution_count": 7,
   "id": "9a029010",
   "metadata": {},
   "outputs": [
    {
     "data": {
      "text/plain": [
       "1"
      ]
     },
     "execution_count": 7,
     "metadata": {},
     "output_type": "execute_result"
    }
   ],
   "source": [
    "# 2차원 배열 접근하기\t\n",
    "arr = [[0, 1],[1, 2],[2, 3]]\n",
    "\n",
    "# arr[0][1] 이런식으로 접근하자 가물가물 했었으\n",
    "\n",
    "def solution(arr, queries):\n",
    "    for x in range(0,len(arr))   # ❌ 여기 세미콜론(;)이 아니라 콜론(:) 필요!\n",
    "    new_arr = []                 # ❌ 반복문 안에 두면 매번 초기화됨!\n",
    "    if queries[x][0]<=arr[x]<=queries[x][1]:   # ❌ arr와 queries 길이 다를 수도 있음\n",
    "        return = new_arr.append(arr[x]+1)      # ❌ return과 append는 같이 못 씀\n",
    "\n",
    "    return new_arr\n",
    "# 엉망진창이네"
   ]
  },
  {
   "cell_type": "code",
   "execution_count": null,
   "id": "fdf0b0c0",
   "metadata": {},
   "outputs": [],
   "source": []
  },
  {
   "metadata": {},
   "cell_type": "code",
   "outputs": [],
   "execution_count": null,
   "source": "",
   "id": "83fc09dea409518"
  }
 ],
 "metadata": {
  "kernelspec": {
   "display_name": "3.11.9",
   "language": "python",
   "name": "python3"
  },
  "language_info": {
   "codemirror_mode": {
    "name": "ipython",
    "version": 3
   },
   "file_extension": ".py",
   "mimetype": "text/x-python",
   "name": "python",
   "nbconvert_exporter": "python",
   "pygments_lexer": "ipython3",
   "version": "3.11.9"
  }
 },
 "nbformat": 4,
 "nbformat_minor": 5
}
