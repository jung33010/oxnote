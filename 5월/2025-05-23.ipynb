{
 "cells": [
  {
   "cell_type": "markdown",
   "id": "cc815c2b",
   "metadata": {},
   "source": [
    "## 코딩 기초 트레이닝"
   ]
  },
  {
   "cell_type": "code",
   "id": "a1c80ab6",
   "metadata": {},
   "source": [
    "# def solution(n, control):\n",
    "#     answer = n\n",
    "#     for i in control:\n",
    "#         if i == \"w\":\n",
    "#             return n+1\n",
    "#         elif i == 's':\n",
    "#             return n-1\n",
    "#         elif i == 'd':\n",
    "#             return n+10\n",
    "#         elif i == 'a':\n",
    "#             return n-10\n",
    "#     return answer\n",
    "# 이건 틀린코드 아래는 맞는코드\n",
    "def solution(n, control):\n",
    "    for i in control:\n",
    "        if i == \"w\":\n",
    "            n += 1\n",
    "        elif i == \"s\":\n",
    "            n -= 1\n",
    "        elif i == \"d\":\n",
    "            n += 10\n",
    "        elif i == \"a\":\n",
    "            n -= 10\n",
    "    return n\n"
   ],
   "outputs": [],
   "execution_count": null
  }
 ],
 "metadata": {
  "kernelspec": {
   "display_name": "3.11.9",
   "language": "python",
   "name": "python3"
  },
  "language_info": {
   "codemirror_mode": {
    "name": "ipython",
    "version": 3
   },
   "file_extension": ".py",
   "mimetype": "text/x-python",
   "name": "python",
   "nbconvert_exporter": "python",
   "pygments_lexer": "ipython3",
   "version": "3.11.9"
  }
 },
 "nbformat": 4,
 "nbformat_minor": 5
}
