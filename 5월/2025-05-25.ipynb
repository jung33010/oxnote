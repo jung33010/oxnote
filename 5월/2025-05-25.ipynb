{
 "cells": [
  {
   "cell_type": "code",
   "execution_count": null,
   "id": "initial_id",
   "metadata": {
    "collapsed": true
   },
   "outputs": [],
   "source": [
    "# zip 좀 햇갈리시는듯 map 과같이 기본적으로 자체 객체형태로 반환\n",
    "# 튜블 + 리스트로 반환한다고 생각하면 될듯\n",
    "\n",
    "names = [\"Alice\", \"Bob\", \"Charlie\"]\n",
    "scores = [85, 92, 78]\n",
    "\n",
    "zipped = zip(names, scores)\n",
    "\n",
    "print(zipped)               # 출력: <zip object at ...>\n",
    "print(list(zipped))         # 출력: [('Alice', 85), ('Bob', 92), ('Charlie', 78)]\n",
    "\n",
    "############## 여기서 중요한것 각각 따로 꺼내쓸수 있음 필터링처럼\n",
    "\n",
    "def solution(todo_list, finished):\n",
    "    z = zip(todo_list, finished)\n",
    "    answer = []\n",
    "    for todo, done in z:\n",
    "        if done == \"True\":  # 문자열일 경우\n",
    "            answer.append(todo)\n",
    "    return answer\n",
    "# 이런식으로 z 에서 각각따로 정의를한다음에"
   ]
  },
  {
   "metadata": {},
   "cell_type": "code",
   "outputs": [],
   "execution_count": null,
   "source": "# pop - > 리스트에서 특정요소 지움 그값을 반환",
   "id": "e1e8c4a46f271043"
  },
  {
   "metadata": {},
   "cell_type": "code",
   "outputs": [],
   "execution_count": null,
   "source": [
    "def solution(my_string, is_prefix):\n",
    "    return 1 if my_string.startswith(is_prefix) else 0\n",
    "\n",
    "## startswith 스타트 위쓰라는 함수가 있었지뭐야\n"
   ],
   "id": "9da8db996a1f9ce0"
  },
  {
   "metadata": {},
   "cell_type": "code",
   "outputs": [],
   "execution_count": null,
   "source": [
    "#range (,10) 이렇게 쓰면안되고 (10)그냥 이렇게 써야한다.\n",
    "# 그리고 정렬은 .sort는 반환값이 없음 걍 정렬만"
   ],
   "id": "e1c636b8c2898957"
  },
  {
   "metadata": {
    "ExecuteTime": {
     "end_time": "2025-05-25T01:45:31.384236Z",
     "start_time": "2025-05-25T01:45:31.365480Z"
    }
   },
   "cell_type": "code",
   "source": [
    "my_strings= [\"progressive\", \"hamburger\", \"hammer\", \"ahocorasick\"]\n",
    "parts = [[0, 4], [1, 2], [3, 5], [7, 7]]\n",
    "def solution(my_strings, parts):\n",
    "    x = [my_strings[parts[i][0]:parts[i][1]+1] for i in range(0,len(parts))]\n",
    "    return x\n",
    "solution(my_strings, parts)"
   ],
   "id": "508791fed2956200",
   "outputs": [
    {
     "data": {
      "text/plain": [
       "[['progressive', 'hamburger', 'hammer', 'ahocorasick'],\n",
       " ['hamburger', 'hammer'],\n",
       " ['ahocorasick'],\n",
       " []]"
      ]
     },
     "execution_count": 2,
     "metadata": {},
     "output_type": "execute_result"
    }
   ],
   "execution_count": 2
  },
  {
   "metadata": {
    "ExecuteTime": {
     "end_time": "2025-05-25T01:58:36.399285Z",
     "start_time": "2025-05-25T01:58:36.392994Z"
    }
   },
   "cell_type": "code",
   "source": [
    "number= \"12314564789\"\n",
    "x = ','.join(number)\n",
    "print(x)"
   ],
   "id": "f348436995519f97",
   "outputs": [
    {
     "name": "stdout",
     "output_type": "stream",
     "text": [
      "1,2,3,1,4,5,6,4,7,8,9\n"
     ]
    }
   ],
   "execution_count": 17
  },
  {
   "metadata": {},
   "cell_type": "code",
   "outputs": [],
   "execution_count": null,
   "source": "# argsort 는 넘파이배열",
   "id": "34326f2d1842a272"
  }
 ],
 "metadata": {
  "kernelspec": {
   "display_name": "Python 3",
   "language": "python",
   "name": "python3"
  },
  "language_info": {
   "codemirror_mode": {
    "name": "ipython",
    "version": 2
   },
   "file_extension": ".py",
   "mimetype": "text/x-python",
   "name": "python",
   "nbconvert_exporter": "python",
   "pygments_lexer": "ipython2",
   "version": "2.7.6"
  }
 },
 "nbformat": 4,
 "nbformat_minor": 5
}
