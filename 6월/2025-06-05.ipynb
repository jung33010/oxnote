{
 "cells": [
  {
   "cell_type": "code",
   "id": "initial_id",
   "metadata": {
    "collapsed": true,
    "ExecuteTime": {
     "end_time": "2025-06-05T09:35:58.950065Z",
     "start_time": "2025-06-05T09:35:58.896591Z"
    }
   },
   "source": [
    "def solution(s):\n",
    "    x = [for i in s if \"p\" or \"P\" in i]\n",
    "    y = [for i in s if \"y\" or \"Y\" in i]\n",
    "    if len(x) == len(y):\n",
    "        return true\n",
    "    else:\n",
    "        return false\n",
    "    p와 y의 갯수세기 문제인데 위와같이 코드를 짰음\n",
    "    이거 문제가 뭐냐면 count라는 함수를 생각하지 못함\n",
    "\n",
    "    def solution(s):\n",
    "    s = s.lower()  # 모두 소문자로 변환\n",
    "    return s.count('p') == s.count('y')"
   ],
   "outputs": [
    {
     "ename": "SyntaxError",
     "evalue": "invalid syntax (2916914821.py, line 2)",
     "output_type": "error",
     "traceback": [
      "  \u001B[36mCell\u001B[39m\u001B[36m \u001B[39m\u001B[32mIn[3]\u001B[39m\u001B[32m, line 2\u001B[39m\n\u001B[31m    \u001B[39m\u001B[31mx = [for i in s if \"p\" or \"P\" in i]\u001B[39m\n         ^\n\u001B[31mSyntaxError\u001B[39m\u001B[31m:\u001B[39m invalid syntax\n"
     ]
    }
   ],
   "execution_count": 3
  },
  {
   "metadata": {
    "ExecuteTime": {
     "end_time": "2025-06-05T09:49:43.281916Z",
     "start_time": "2025-06-05T09:49:43.272679Z"
    }
   },
   "cell_type": "code",
   "source": [
    "text = \"apple banana cherry\"\n",
    "result = text.split()\n",
    "print(result)  # ['apple', 'banana', 'cherry']\n",
    "# 이거 왜자꾸 까먹냐"
   ],
   "id": "57a46d52b151d91a",
   "outputs": [
    {
     "name": "stdout",
     "output_type": "stream",
     "text": [
      "['apple', 'banana', 'cherry']\n"
     ]
    }
   ],
   "execution_count": 4
  },
  {
   "metadata": {},
   "cell_type": "code",
   "outputs": [],
   "execution_count": null,
   "source": "",
   "id": "858977b8f9a17dee"
  }
 ],
 "metadata": {
  "kernelspec": {
   "display_name": "Python 3",
   "language": "python",
   "name": "python3"
  },
  "language_info": {
   "codemirror_mode": {
    "name": "ipython",
    "version": 2
   },
   "file_extension": ".py",
   "mimetype": "text/x-python",
   "name": "python",
   "nbconvert_exporter": "python",
   "pygments_lexer": "ipython2",
   "version": "2.7.6"
  }
 },
 "nbformat": 4,
 "nbformat_minor": 5
}
