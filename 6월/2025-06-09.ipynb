{
 "cells": [
  {
   "metadata": {},
   "cell_type": "code",
   "outputs": [],
   "execution_count": null,
   "source": [
    "def solution(n):\n",
    "    i = 1  # 1부터 시작해서 i를 점점 증가시킵니다\n",
    "    while i * i <= n:  # i의 제곱이 n보다 작거나 같은 동안 반복합니다\n",
    "        if i * i == n:  # i의 제곱이 n과 같다면\n",
    "            return 1  # n은 제곱수이므로 1을 반환합니다\n",
    "        i += 1  # i를 1 증가시켜 다음 수 확인\n",
    "    return 2  # i의 제곱이 n과 같은 경우가 없었다면, 제곱수가 아니므로 2를 반환합니다\n",
    "\n",
    "# 어떤 자연수를 제곱했을 때 나오는 정수를 제곱수라고 합니다. 정수 n이 매개변수로 주어질 때, n이 제곱수라면 1을 아니라면 2를 return하도록 solution 함수를 완성해주세요.\n",
    "\n",
    "# while문이 익숙치가 않음"
   ],
   "id": "227bf09f1abd00ed"
  },
  {
   "metadata": {},
   "cell_type": "code",
   "outputs": [],
   "execution_count": null,
   "source": [
    "# list에서 pop 메서드를 사용시에 인덱스로 접근하는걸 까먹음\n",
    "# 이런기초적인걸 아직도?"
   ],
   "id": "ab2538ee24903e01"
  },
  {
   "metadata": {},
   "cell_type": "code",
   "outputs": [],
   "execution_count": null,
   "source": [
    "# 문자열에서 특정 문자제거할때 replace제발!\n",
    "# len 문자열에서 공백도 포함해서 세어주는건데 왜자꾸 까먹지?"
   ],
   "id": "2d496dd931314a04"
  },
  {
   "metadata": {},
   "cell_type": "code",
   "outputs": [],
   "execution_count": null,
   "source": [
    "# 문제점 요약:\n",
    "# n / 2는 실수(float)\n",
    "# → * 연산에는 정수(int)가 필요해요.\n",
    "# → 해결: n // 2 또는 int(n / 2) 사용\n",
    "#\n",
    "# x가 else에서만 정의되어 있지 않음\n",
    "# → else 블록에서 x + \"수\"를 하려면 x가 미리 정의돼 있어야 해요\n",
    "\n",
    "# def solution(s):\n",
    "#     if (len(s) == 4 or len(s)) == 6 and s.isdigit():\n",
    "#         return True\n",
    "#     else:\n",
    "#         return False\n",
    "# isdigit()  이라는 함수가있음\n",
    "# (len(s) == 4 or len(s)) == 6 and s.isdigit(): 여기서 (len(s) == 4 or len(s)) 이부분에서 튜플필수 우선연산자 지정"
   ],
   "id": "90a02d6a1c06c3ea"
  }
 ],
 "metadata": {
  "kernelspec": {
   "display_name": "Python 3",
   "language": "python",
   "name": "python3"
  },
  "language_info": {
   "codemirror_mode": {
    "name": "ipython",
    "version": 2
   },
   "file_extension": ".py",
   "mimetype": "text/x-python",
   "name": "python",
   "nbconvert_exporter": "python",
   "pygments_lexer": "ipython2",
   "version": "2.7.6"
  }
 },
 "nbformat": 4,
 "nbformat_minor": 5
}
