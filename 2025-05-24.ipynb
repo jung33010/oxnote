{
 "cells": [
  {
   "cell_type": "code",
   "id": "initial_id",
   "metadata": {
    "collapsed": true,
    "ExecuteTime": {
     "end_time": "2025-05-24T00:09:33.631592Z",
     "start_time": "2025-05-24T00:09:33.620307Z"
    }
   },
   "source": [
    "for i in range(0,4):\n",
    "    print(i)\n",
    "\n",
    "# i 를 리스트형태로 주는줄알았는데 말그대로 그냥 하나씩 뽑아주는거임\n",
    "# 그렇다면 리스트 컴프리핸션으로 써야하나?\n",
    "[sum(i**2 for i in range(0,4))]"
   ],
   "outputs": [
    {
     "name": "stdout",
     "output_type": "stream",
     "text": [
      "0\n",
      "1\n",
      "2\n",
      "3\n"
     ]
    },
    {
     "data": {
      "text/plain": [
       "[14]"
      ]
     },
     "execution_count": 14,
     "metadata": {},
     "output_type": "execute_result"
    }
   ],
   "execution_count": 14
  },
  {
   "metadata": {
    "ExecuteTime": {
     "end_time": "2025-05-24T00:22:58.210186Z",
     "start_time": "2025-05-24T00:22:58.204257Z"
    }
   },
   "cell_type": "code",
   "source": [
    "for i in range(1, 7, 2):  # n = 7일 때 n+1 = 8\n",
    "    print(i)\n",
    "\n",
    "# 인덱스 기반으로 생각하면 안됨 range는 더하기 개념으로 생각해야함"
   ],
   "id": "be60bcd62cabad50",
   "outputs": [
    {
     "name": "stdout",
     "output_type": "stream",
     "text": [
      "1\n",
      "3\n",
      "5\n"
     ]
    }
   ],
   "execution_count": 21
  },
  {
   "metadata": {},
   "cell_type": "code",
   "outputs": [],
   "execution_count": null,
   "source": [
    "# 불리언값에 int를 씌우면 0 또는 1로 출력이 가능하다\n",
    "# sum (a,b,c) 안된다.."
   ],
   "id": "3107f9529aa2c681"
  },
  {
   "metadata": {},
   "cell_type": "code",
   "outputs": [],
   "execution_count": null,
   "source": [
    "# 🔁 while 문은 조건이 \"참(True)\"일 때만 반복합니다.\n",
    "# 조건이 **거짓(False)**이 되면 반복을 멈춥니다."
   ],
   "id": "aeb96e39919c464f"
  },
  {
   "metadata": {
    "ExecuteTime": {
     "end_time": "2025-05-24T02:40:20.326605Z",
     "start_time": "2025-05-24T02:40:20.295691Z"
    }
   },
   "cell_type": "code",
   "source": [
    "eval()# 이건 ()안에있는 문자열 코드를 실행하는거임\n",
    "if arr > 50 이거 에러남 #arr 은 리스트배열"
   ],
   "id": "37dc660cb8d40230",
   "outputs": [
    {
     "ename": "SyntaxError",
     "evalue": "invalid syntax (3276340076.py, line 2)",
     "output_type": "error",
     "traceback": [
      "  \u001B[36mCell\u001B[39m\u001B[36m \u001B[39m\u001B[32mIn[22]\u001B[39m\u001B[32m, line 2\u001B[39m\n\u001B[31m    \u001B[39m\u001B[31mif arr > 50 이거 에러남\u001B[39m\n                ^\n\u001B[31mSyntaxError\u001B[39m\u001B[31m:\u001B[39m invalid syntax\n"
     ]
    }
   ],
   "execution_count": 22
  },
  {
   "metadata": {
    "ExecuteTime": {
     "end_time": "2025-05-24T02:54:59.779724Z",
     "start_time": "2025-05-24T02:54:59.765988Z"
    }
   },
   "cell_type": "code",
   "source": [
    "def solution(arr):\n",
    "    answer = [i/2 for i in arr if i>=50 and i % 2 == 0 else i*2 ]\n",
    "    return answer\n",
    "# 이거 리스트컴프리헨션 순서도 중요함 조건 배열을 뒤에넣어야헤"
   ],
   "id": "778f282f9f00baa2",
   "outputs": [
    {
     "ename": "SyntaxError",
     "evalue": "invalid syntax (4050451557.py, line 2)",
     "output_type": "error",
     "traceback": [
      "  \u001B[36mCell\u001B[39m\u001B[36m \u001B[39m\u001B[32mIn[23]\u001B[39m\u001B[32m, line 2\u001B[39m\n\u001B[31m    \u001B[39m\u001B[31manswer = [i/2 for i in arr if i>=50 and i % 2 == 0 else i*2 ]\u001B[39m\n                                                       ^\n\u001B[31mSyntaxError\u001B[39m\u001B[31m:\u001B[39m invalid syntax\n"
     ]
    }
   ],
   "execution_count": 23
  },
  {
   "metadata": {},
   "cell_type": "code",
   "outputs": [],
   "execution_count": null,
   "source": [
    "lst = [2, 3, 4]\n",
    "result = 1\n",
    "for num in lst:\n",
    "    result *= num\n",
    "\n",
    "print(result)  # 출력: 24\n",
    "\n",
    "import math\n",
    "\n",
    "lst = [2, 3, 4]\n",
    "result = math.prod(lst)\n",
    "print(result)  # 출력: 24\n"
   ],
   "id": "bbd8b8d6fb11c0be"
  }
 ],
 "metadata": {
  "kernelspec": {
   "display_name": "Python 3",
   "language": "python",
   "name": "python3"
  },
  "language_info": {
   "codemirror_mode": {
    "name": "ipython",
    "version": 2
   },
   "file_extension": ".py",
   "mimetype": "text/x-python",
   "name": "python",
   "nbconvert_exporter": "python",
   "pygments_lexer": "ipython2",
   "version": "2.7.6"
  }
 },
 "nbformat": 4,
 "nbformat_minor": 5
}
